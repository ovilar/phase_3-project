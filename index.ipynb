{
 "cells": [
  {
   "cell_type": "markdown",
   "metadata": {},
   "source": [
    "# Pump it Up: Data Mining the Water Table\n",
    "Using the from <a href='https://taarifa.org/'>Taarifa</a> and the <a href='https://www.maji.go.tz/'>Tanzanian Ministry of Water</a>, I create several models to predict which water pumps are functional or not. To simplify the process, I will only work with two prediction labels: working and not working, and will apply all the underlying processes from a Machine Learning (ML) workflow standpoint. It is also important to understand which metric we are going to maximize, given the nature of the problem. \n",
    "\n",
    "I start by introducing the problem, its stakeholders and why is it a relevant and what I am trying to achieve. Then I import the libraries that I am going to use - a combination of pandas and sklearn modules, and then I start basic exploratory data analysis (EDA) and cleaning processes.\n",
    "\n",
    "From there, we prepare the date and use the training, testing splitting processes so I can inspect how the models will perform on both training and testing data. The notebook will provide three basic Machine Learning models and will also provide a workflow pipeline and an ensemble alternative at the end.\n",
    "\n",
    "Finally, I wrap up with the conclusion from this exercise and provide some recommendations about what I have discovered. Feel free to criticize, suggest improvements and interact. The dataset comes from DrivenData's Pump it Up: Data Mining the Water Table competition and can be found <a href='https://www.drivendata.org/competitions/7/pump-it-up-data-mining-the-water-table/page/23/'>here</a>.\n",
    "\n",
    "## Business Problem\n",
    "Impoverished countries have difficulties in having access to clean water. Water poverty is responsible for a series of illnesses. Anecdotal evidence from the <a href='https://www.tanzaniawaterproject.org/how-were-making-a-difference/water-as-a-word-health-issue/'>Tanzanian Water Project</a> lists that:\n",
    "<ul>\n",
    "    <li>1/6 of the world population lack access to safe water;</li>\n",
    "    <li>88% of the diseases are caused by unsafe water drinking;</li>\n",
    "    <li>The average American uses 100-175 gallon of water daily, whereas the average African uses 5 gallon of water daily;</li>\n",
    "    <li>Water poverty negatively impacts education, local economies, agriculture and gender equality.</li>\n",
    "</ul>\n",
    "Furthermore, it is estimated that people living in water poverty struck places usually have to walk around 3-5 miles per day to have access to questionable water supply. \n",
    "\n",
    "Even though the provided analysis does not solves the issue of lacking water wells in impoverished regions, I posit that having access to the status of a functioning well has its benefits. By having a predictive analysis that shows whether a well is properly functioning or not, public policy efforts can be driven to: fix that well, assess the quality of that well, and provide a better service to communities that use those wells.\n",
    "\n",
    "The stakeholders are the Tanzanian public policy makers and government, NGO's and the general public - not only the ones that use that well, but all the other communities and people interested. \n",
    "\n",
    "## Data Importing and Exploratory Data Analysis\n",
    "\n",
    "I start by importing the libraries that are going to be used and inspect the DataFrames provided by DrivenData."
   ]
  },
  {
   "cell_type": "code",
   "execution_count": 1,
   "metadata": {},
   "outputs": [
    {
     "data": {
      "text/html": [
       "<div>\n",
       "<style scoped>\n",
       "    .dataframe tbody tr th:only-of-type {\n",
       "        vertical-align: middle;\n",
       "    }\n",
       "\n",
       "    .dataframe tbody tr th {\n",
       "        vertical-align: top;\n",
       "    }\n",
       "\n",
       "    .dataframe thead th {\n",
       "        text-align: right;\n",
       "    }\n",
       "</style>\n",
       "<table border=\"1\" class=\"dataframe\">\n",
       "  <thead>\n",
       "    <tr style=\"text-align: right;\">\n",
       "      <th></th>\n",
       "      <th>id</th>\n",
       "      <th>status_group</th>\n",
       "    </tr>\n",
       "  </thead>\n",
       "  <tbody>\n",
       "    <tr>\n",
       "      <th>0</th>\n",
       "      <td>69572</td>\n",
       "      <td>functional</td>\n",
       "    </tr>\n",
       "    <tr>\n",
       "      <th>1</th>\n",
       "      <td>8776</td>\n",
       "      <td>functional</td>\n",
       "    </tr>\n",
       "    <tr>\n",
       "      <th>2</th>\n",
       "      <td>34310</td>\n",
       "      <td>functional</td>\n",
       "    </tr>\n",
       "    <tr>\n",
       "      <th>3</th>\n",
       "      <td>67743</td>\n",
       "      <td>non functional</td>\n",
       "    </tr>\n",
       "    <tr>\n",
       "      <th>4</th>\n",
       "      <td>19728</td>\n",
       "      <td>functional</td>\n",
       "    </tr>\n",
       "  </tbody>\n",
       "</table>\n",
       "</div>"
      ],
      "text/plain": [
       "      id    status_group\n",
       "0  69572      functional\n",
       "1   8776      functional\n",
       "2  34310      functional\n",
       "3  67743  non functional\n",
       "4  19728      functional"
      ]
     },
     "execution_count": 1,
     "metadata": {},
     "output_type": "execute_result"
    }
   ],
   "source": [
    "# Importing the libraries that are going to be used\n",
    "import pandas as pd\n",
    "import numpy as np\n",
    "import matplotlib.pyplot as plt\n",
    "from sklearn.impute import SimpleImputer\n",
    "from sklearn.pipeline import Pipeline\n",
    "from sklearn.preprocessing import OneHotEncoder\n",
    "from sklearn.tree import DecisionTreeClassifier\n",
    "from sklearn.ensemble import BaggingClassifier, RandomForestClassifier\n",
    "from sklearn.metrics import plot_confusion_matrix, classification_report\n",
    "from sklearn.model_selection import train_test_split, GridSearchCV\n",
    "\n",
    "# Importing the Datasets from the Tanzania Water Pumping Data Driven's website\n",
    "\n",
    "# This DataFrame is for the Training Set Labels\n",
    "df1 = pd.read_csv('csv/0bf8bc6e-30d0-4c50-956a-603fc693d966.csv')\n",
    "\n",
    "# This DataFrame is for the Test Set Values\n",
    "df2 = pd.read_csv('csv/702ddfc5-68cd-4d1d-a0de-f5f566f76d91.csv')\n",
    "\n",
    "# This DataFrame is for the Training Set Values\n",
    "df3 = pd.read_csv('csv/4910797b-ee55-40a7-8668-10efd5c1b960.csv')\n",
    "\n",
    "# Inspecting df1 - Training Set Labels ('y_train')\n",
    "df1.head()"
   ]
  },
  {
   "cell_type": "code",
   "execution_count": 2,
   "metadata": {},
   "outputs": [
    {
     "name": "stdout",
     "output_type": "stream",
     "text": [
      "<class 'pandas.core.frame.DataFrame'>\n",
      "RangeIndex: 14850 entries, 0 to 14849\n",
      "Data columns (total 40 columns):\n",
      " #   Column                 Non-Null Count  Dtype  \n",
      "---  ------                 --------------  -----  \n",
      " 0   id                     14850 non-null  int64  \n",
      " 1   amount_tsh             14850 non-null  float64\n",
      " 2   date_recorded          14850 non-null  object \n",
      " 3   funder                 13981 non-null  object \n",
      " 4   gps_height             14850 non-null  int64  \n",
      " 5   installer              13973 non-null  object \n",
      " 6   longitude              14850 non-null  float64\n",
      " 7   latitude               14850 non-null  float64\n",
      " 8   wpt_name               14850 non-null  object \n",
      " 9   num_private            14850 non-null  int64  \n",
      " 10  basin                  14850 non-null  object \n",
      " 11  subvillage             14751 non-null  object \n",
      " 12  region                 14850 non-null  object \n",
      " 13  region_code            14850 non-null  int64  \n",
      " 14  district_code          14850 non-null  int64  \n",
      " 15  lga                    14850 non-null  object \n",
      " 16  ward                   14850 non-null  object \n",
      " 17  population             14850 non-null  int64  \n",
      " 18  public_meeting         14029 non-null  object \n",
      " 19  recorded_by            14850 non-null  object \n",
      " 20  scheme_management      13881 non-null  object \n",
      " 21  scheme_name            7758 non-null   object \n",
      " 22  permit                 14113 non-null  object \n",
      " 23  construction_year      14850 non-null  int64  \n",
      " 24  extraction_type        14850 non-null  object \n",
      " 25  extraction_type_group  14850 non-null  object \n",
      " 26  extraction_type_class  14850 non-null  object \n",
      " 27  management             14850 non-null  object \n",
      " 28  management_group       14850 non-null  object \n",
      " 29  payment                14850 non-null  object \n",
      " 30  payment_type           14850 non-null  object \n",
      " 31  water_quality          14850 non-null  object \n",
      " 32  quality_group          14850 non-null  object \n",
      " 33  quantity               14850 non-null  object \n",
      " 34  quantity_group         14850 non-null  object \n",
      " 35  source                 14850 non-null  object \n",
      " 36  source_type            14850 non-null  object \n",
      " 37  source_class           14850 non-null  object \n",
      " 38  waterpoint_type        14850 non-null  object \n",
      " 39  waterpoint_type_group  14850 non-null  object \n",
      "dtypes: float64(3), int64(7), object(30)\n",
      "memory usage: 4.5+ MB\n"
     ]
    }
   ],
   "source": [
    "# Inspecting df2 - Test Set Values ('X_test'), these are the ones that need to be predicted\n",
    "df2.info()"
   ]
  },
  {
   "cell_type": "code",
   "execution_count": 3,
   "metadata": {},
   "outputs": [
    {
     "data": {
      "text/html": [
       "<div>\n",
       "<style scoped>\n",
       "    .dataframe tbody tr th:only-of-type {\n",
       "        vertical-align: middle;\n",
       "    }\n",
       "\n",
       "    .dataframe tbody tr th {\n",
       "        vertical-align: top;\n",
       "    }\n",
       "\n",
       "    .dataframe thead th {\n",
       "        text-align: right;\n",
       "    }\n",
       "</style>\n",
       "<table border=\"1\" class=\"dataframe\">\n",
       "  <thead>\n",
       "    <tr style=\"text-align: right;\">\n",
       "      <th></th>\n",
       "      <th>id</th>\n",
       "      <th>amount_tsh</th>\n",
       "      <th>date_recorded</th>\n",
       "      <th>funder</th>\n",
       "      <th>gps_height</th>\n",
       "      <th>installer</th>\n",
       "      <th>longitude</th>\n",
       "      <th>latitude</th>\n",
       "      <th>wpt_name</th>\n",
       "      <th>num_private</th>\n",
       "      <th>...</th>\n",
       "      <th>payment_type</th>\n",
       "      <th>water_quality</th>\n",
       "      <th>quality_group</th>\n",
       "      <th>quantity</th>\n",
       "      <th>quantity_group</th>\n",
       "      <th>source</th>\n",
       "      <th>source_type</th>\n",
       "      <th>source_class</th>\n",
       "      <th>waterpoint_type</th>\n",
       "      <th>waterpoint_type_group</th>\n",
       "    </tr>\n",
       "  </thead>\n",
       "  <tbody>\n",
       "    <tr>\n",
       "      <th>0</th>\n",
       "      <td>69572</td>\n",
       "      <td>6000.0</td>\n",
       "      <td>2011-03-14</td>\n",
       "      <td>Roman</td>\n",
       "      <td>1390</td>\n",
       "      <td>Roman</td>\n",
       "      <td>34.938093</td>\n",
       "      <td>-9.856322</td>\n",
       "      <td>none</td>\n",
       "      <td>0</td>\n",
       "      <td>...</td>\n",
       "      <td>annually</td>\n",
       "      <td>soft</td>\n",
       "      <td>good</td>\n",
       "      <td>enough</td>\n",
       "      <td>enough</td>\n",
       "      <td>spring</td>\n",
       "      <td>spring</td>\n",
       "      <td>groundwater</td>\n",
       "      <td>communal standpipe</td>\n",
       "      <td>communal standpipe</td>\n",
       "    </tr>\n",
       "    <tr>\n",
       "      <th>1</th>\n",
       "      <td>8776</td>\n",
       "      <td>0.0</td>\n",
       "      <td>2013-03-06</td>\n",
       "      <td>Grumeti</td>\n",
       "      <td>1399</td>\n",
       "      <td>GRUMETI</td>\n",
       "      <td>34.698766</td>\n",
       "      <td>-2.147466</td>\n",
       "      <td>Zahanati</td>\n",
       "      <td>0</td>\n",
       "      <td>...</td>\n",
       "      <td>never pay</td>\n",
       "      <td>soft</td>\n",
       "      <td>good</td>\n",
       "      <td>insufficient</td>\n",
       "      <td>insufficient</td>\n",
       "      <td>rainwater harvesting</td>\n",
       "      <td>rainwater harvesting</td>\n",
       "      <td>surface</td>\n",
       "      <td>communal standpipe</td>\n",
       "      <td>communal standpipe</td>\n",
       "    </tr>\n",
       "    <tr>\n",
       "      <th>2</th>\n",
       "      <td>34310</td>\n",
       "      <td>25.0</td>\n",
       "      <td>2013-02-25</td>\n",
       "      <td>Lottery Club</td>\n",
       "      <td>686</td>\n",
       "      <td>World vision</td>\n",
       "      <td>37.460664</td>\n",
       "      <td>-3.821329</td>\n",
       "      <td>Kwa Mahundi</td>\n",
       "      <td>0</td>\n",
       "      <td>...</td>\n",
       "      <td>per bucket</td>\n",
       "      <td>soft</td>\n",
       "      <td>good</td>\n",
       "      <td>enough</td>\n",
       "      <td>enough</td>\n",
       "      <td>dam</td>\n",
       "      <td>dam</td>\n",
       "      <td>surface</td>\n",
       "      <td>communal standpipe multiple</td>\n",
       "      <td>communal standpipe</td>\n",
       "    </tr>\n",
       "    <tr>\n",
       "      <th>3</th>\n",
       "      <td>67743</td>\n",
       "      <td>0.0</td>\n",
       "      <td>2013-01-28</td>\n",
       "      <td>Unicef</td>\n",
       "      <td>263</td>\n",
       "      <td>UNICEF</td>\n",
       "      <td>38.486161</td>\n",
       "      <td>-11.155298</td>\n",
       "      <td>Zahanati Ya Nanyumbu</td>\n",
       "      <td>0</td>\n",
       "      <td>...</td>\n",
       "      <td>never pay</td>\n",
       "      <td>soft</td>\n",
       "      <td>good</td>\n",
       "      <td>dry</td>\n",
       "      <td>dry</td>\n",
       "      <td>machine dbh</td>\n",
       "      <td>borehole</td>\n",
       "      <td>groundwater</td>\n",
       "      <td>communal standpipe multiple</td>\n",
       "      <td>communal standpipe</td>\n",
       "    </tr>\n",
       "    <tr>\n",
       "      <th>4</th>\n",
       "      <td>19728</td>\n",
       "      <td>0.0</td>\n",
       "      <td>2011-07-13</td>\n",
       "      <td>Action In A</td>\n",
       "      <td>0</td>\n",
       "      <td>Artisan</td>\n",
       "      <td>31.130847</td>\n",
       "      <td>-1.825359</td>\n",
       "      <td>Shuleni</td>\n",
       "      <td>0</td>\n",
       "      <td>...</td>\n",
       "      <td>never pay</td>\n",
       "      <td>soft</td>\n",
       "      <td>good</td>\n",
       "      <td>seasonal</td>\n",
       "      <td>seasonal</td>\n",
       "      <td>rainwater harvesting</td>\n",
       "      <td>rainwater harvesting</td>\n",
       "      <td>surface</td>\n",
       "      <td>communal standpipe</td>\n",
       "      <td>communal standpipe</td>\n",
       "    </tr>\n",
       "  </tbody>\n",
       "</table>\n",
       "<p>5 rows × 40 columns</p>\n",
       "</div>"
      ],
      "text/plain": [
       "      id  amount_tsh date_recorded        funder  gps_height     installer  \\\n",
       "0  69572      6000.0    2011-03-14         Roman        1390         Roman   \n",
       "1   8776         0.0    2013-03-06       Grumeti        1399       GRUMETI   \n",
       "2  34310        25.0    2013-02-25  Lottery Club         686  World vision   \n",
       "3  67743         0.0    2013-01-28        Unicef         263        UNICEF   \n",
       "4  19728         0.0    2011-07-13   Action In A           0       Artisan   \n",
       "\n",
       "   longitude   latitude              wpt_name  num_private  ... payment_type  \\\n",
       "0  34.938093  -9.856322                  none            0  ...     annually   \n",
       "1  34.698766  -2.147466              Zahanati            0  ...    never pay   \n",
       "2  37.460664  -3.821329           Kwa Mahundi            0  ...   per bucket   \n",
       "3  38.486161 -11.155298  Zahanati Ya Nanyumbu            0  ...    never pay   \n",
       "4  31.130847  -1.825359               Shuleni            0  ...    never pay   \n",
       "\n",
       "  water_quality quality_group      quantity  quantity_group  \\\n",
       "0          soft          good        enough          enough   \n",
       "1          soft          good  insufficient    insufficient   \n",
       "2          soft          good        enough          enough   \n",
       "3          soft          good           dry             dry   \n",
       "4          soft          good      seasonal        seasonal   \n",
       "\n",
       "                 source           source_type  source_class  \\\n",
       "0                spring                spring   groundwater   \n",
       "1  rainwater harvesting  rainwater harvesting       surface   \n",
       "2                   dam                   dam       surface   \n",
       "3           machine dbh              borehole   groundwater   \n",
       "4  rainwater harvesting  rainwater harvesting       surface   \n",
       "\n",
       "               waterpoint_type waterpoint_type_group  \n",
       "0           communal standpipe    communal standpipe  \n",
       "1           communal standpipe    communal standpipe  \n",
       "2  communal standpipe multiple    communal standpipe  \n",
       "3  communal standpipe multiple    communal standpipe  \n",
       "4           communal standpipe    communal standpipe  \n",
       "\n",
       "[5 rows x 40 columns]"
      ]
     },
     "execution_count": 3,
     "metadata": {},
     "output_type": "execute_result"
    }
   ],
   "source": [
    "# Inspecting df3 - Training Set Values ('X_train')\n",
    "df3.head()"
   ]
  },
  {
   "cell_type": "code",
   "execution_count": 4,
   "metadata": {},
   "outputs": [],
   "source": [
    "# I join the training labels with the 'X_train' dataframe. The motivation behind this procedure is to create a new\n",
    "# data split, so I can evaluate the performance of the underlying models that I am going to use to predict the labels\n",
    "\n",
    "df = df1.merge(df3, on = 'id', how = 'inner')\n"
   ]
  },
  {
   "cell_type": "markdown",
   "metadata": {},
   "source": [
    "Overall, we have a combination of integer values and objects on the DataFrame's column. We will need to preprocess (i.e scaling) the numerical ones, whereas the categorical ones must pass through an encoding process. Furthermore, a lot of variables seem to be correlated - providing the same information through different features. Let's take as an example the geolocator variables (you can check the list of variables and their characteristics <a href='https://www.drivendata.org/competitions/7/pump-it-up-data-mining-the-water-table/page/25/'>here</a>) and some other features such as the type of extraction and so on.\n",
    "\n",
    "Let's examine the number of columns with missing values as well.\n"
   ]
  },
  {
   "cell_type": "code",
   "execution_count": 5,
   "metadata": {},
   "outputs": [
    {
     "name": "stdout",
     "output_type": "stream",
     "text": [
      "<class 'pandas.core.frame.DataFrame'>\n",
      "Int64Index: 59400 entries, 0 to 59399\n",
      "Data columns (total 41 columns):\n",
      " #   Column                 Non-Null Count  Dtype  \n",
      "---  ------                 --------------  -----  \n",
      " 0   id                     59400 non-null  int64  \n",
      " 1   status_group           59400 non-null  object \n",
      " 2   amount_tsh             59400 non-null  float64\n",
      " 3   date_recorded          59400 non-null  object \n",
      " 4   funder                 55765 non-null  object \n",
      " 5   gps_height             59400 non-null  int64  \n",
      " 6   installer              55745 non-null  object \n",
      " 7   longitude              59400 non-null  float64\n",
      " 8   latitude               59400 non-null  float64\n",
      " 9   wpt_name               59400 non-null  object \n",
      " 10  num_private            59400 non-null  int64  \n",
      " 11  basin                  59400 non-null  object \n",
      " 12  subvillage             59029 non-null  object \n",
      " 13  region                 59400 non-null  object \n",
      " 14  region_code            59400 non-null  int64  \n",
      " 15  district_code          59400 non-null  int64  \n",
      " 16  lga                    59400 non-null  object \n",
      " 17  ward                   59400 non-null  object \n",
      " 18  population             59400 non-null  int64  \n",
      " 19  public_meeting         56066 non-null  object \n",
      " 20  recorded_by            59400 non-null  object \n",
      " 21  scheme_management      55523 non-null  object \n",
      " 22  scheme_name            31234 non-null  object \n",
      " 23  permit                 56344 non-null  object \n",
      " 24  construction_year      59400 non-null  int64  \n",
      " 25  extraction_type        59400 non-null  object \n",
      " 26  extraction_type_group  59400 non-null  object \n",
      " 27  extraction_type_class  59400 non-null  object \n",
      " 28  management             59400 non-null  object \n",
      " 29  management_group       59400 non-null  object \n",
      " 30  payment                59400 non-null  object \n",
      " 31  payment_type           59400 non-null  object \n",
      " 32  water_quality          59400 non-null  object \n",
      " 33  quality_group          59400 non-null  object \n",
      " 34  quantity               59400 non-null  object \n",
      " 35  quantity_group         59400 non-null  object \n",
      " 36  source                 59400 non-null  object \n",
      " 37  source_type            59400 non-null  object \n",
      " 38  source_class           59400 non-null  object \n",
      " 39  waterpoint_type        59400 non-null  object \n",
      " 40  waterpoint_type_group  59400 non-null  object \n",
      "dtypes: float64(3), int64(7), object(31)\n",
      "memory usage: 19.0+ MB\n"
     ]
    }
   ],
   "source": [
    "# Checking the general features of the dataset - a lot of variables with similar names\n",
    "df.info()"
   ]
  },
  {
   "cell_type": "markdown",
   "metadata": {},
   "source": [
    "We can see there are a few missing rows, specially for scheme_name. Other variables with missing values are: funder, subvillage, public_meeting, scheme_management and permit. According to <a href='https://www.drivendata.org/competitions/7/pump-it-up-data-mining-the-water-table/page/25/'>Driven Data's website</a> the variables funder represents who funded the well, subvillage is a geolocation variable, public_meeting is a boolean value (True/False) which might indicate whether there are public meetings, scheme_name and scheme_management illustrates who operates the waterpoint and permit yields whether the point has a permit. \n",
    "\n",
    "I argue that subvillage can be dropped without any compromise to the analysis, given that we have other geolocation variables that might be correlated with subvillage. The variables scheme_name and scheme_management are also correlated, since both indicate who operates the waterpoint - so I drop the one with fewer entries (scheme_name).\n",
    "\n",
    "The other variables are kept, since there isn't a huge loss to the number of rows.\n"
   ]
  },
  {
   "cell_type": "code",
   "execution_count": 6,
   "metadata": {},
   "outputs": [
    {
     "data": {
      "image/png": "[encoded data removed]",
      "text/plain": [
       "<Figure size 1440x1440 with 12 Axes>"
      ]
     },
     "metadata": {
      "needs_background": "light"
     },
     "output_type": "display_data"
    }
   ],
   "source": [
    "# Plotting an histogram\n",
    "ax = df.hist(figsize = (20, 20))\n",
    "plt.show()"
   ]
  },
  {
   "cell_type": "code",
   "execution_count": 7,
   "metadata": {},
   "outputs": [
    {
     "name": "stdout",
     "output_type": "stream",
     "text": [
      "Checking quantity and quantity_group overlap: \n",
      " True    59400\n",
      "dtype: int64\n",
      "\n",
      "\n",
      "Checking waterpoint_type and waterpoint_type overlap: \n",
      " True     53297\n",
      "False     6103\n",
      "dtype: int64\n",
      "\n",
      "\n",
      "Checking source and source_type overlap: \n",
      " True     37008\n",
      "False    22392\n",
      "dtype: int64\n",
      "\n",
      "\n",
      "Checking source_type and source_class overlap: \n",
      " False    59400\n",
      "dtype: int64\n",
      "\n",
      "\n",
      "Checking payment and payment_type overlap: \n",
      " True     34559\n",
      "False    24841\n",
      "dtype: int64\n",
      "\n",
      "\n",
      "Checking funder and installer overlap: \n",
      " False    53704\n",
      "True      5696\n",
      "dtype: int64\n"
     ]
    }
   ],
   "source": [
    "# Checking quantity and quantity group - they're all the same\n",
    "print('Checking quantity and quantity_group overlap: \\n',(df['quantity'] == df['quantity_group']).value_counts())\n",
    "print('\\n')\n",
    "\n",
    "# Checking waterpoint_type and waterpoint_type_group - they're almost all the same, however there is a small\n",
    "# number of entries that are different (~10%) - I will drop it since it won't provide much difference to the models\n",
    "print('Checking waterpoint_type and waterpoint_type overlap: \\n',(df['waterpoint_type'] == df['waterpoint_type_group']).value_counts())\n",
    "print('\\n')\n",
    "\n",
    "# Checking source and source_type group - almost 50-50 - Will investigate further\n",
    "print('Checking source and source_type overlap: \\n',((df['source'] == df['source_type']).value_counts()))\n",
    "print('\\n')\n",
    "\n",
    "# Checking source_type and source_class group - they are not the same, so I can drop type since it overlaps with\n",
    "print('Checking source_type and source_class overlap: \\n',((df['source_type'] == df['source_class']).value_counts()))\n",
    "print('\\n')\n",
    "\n",
    "# Checking payment and payment_type group - huge overlap\n",
    "print('Checking payment and payment_type overlap: \\n', ((df['payment'] == df['payment_type']).value_counts()))\n",
    "print('\\n')\n",
    "\n",
    "# Checking funder and installer group - no overlap\n",
    "print('Checking funder and installer overlap: \\n', ((df['funder'] == df['installer']).value_counts()))"
   ]
  },
  {
   "cell_type": "code",
   "execution_count": 8,
   "metadata": {},
   "outputs": [
    {
     "data": {
      "text/plain": [
       "management        management_group\n",
       "vwc               user-group          40507\n",
       "wug               user-group           6515\n",
       "water board       user-group           2933\n",
       "wua               user-group           2535\n",
       "private operator  commercial           1971\n",
       "parastatal        parastatal           1768\n",
       "water authority   commercial            904\n",
       "other             other                 844\n",
       "company           commercial            685\n",
       "unknown           unknown               561\n",
       "other - school    other                  99\n",
       "trust             commercial             78\n",
       "dtype: int64"
      ]
     },
     "execution_count": 8,
     "metadata": {},
     "output_type": "execute_result"
    }
   ],
   "source": [
    "# Dropping overlapping variables\n",
    "df = df.drop(['scheme_name', 'payment', 'quantity_group', 'waterpoint_type_group'], axis = 1)\n",
    "\n",
    "# Checking management and management_group. The management variables seems more granular\n",
    "df[['management', 'management_group']].value_counts()"
   ]
  },
  {
   "cell_type": "markdown",
   "metadata": {},
   "source": [
    "### Data Cleaning: Initial Steps\n",
    "I start investigating columns with similar names and their values. If variables provide similar estimates they can be deemed as correlated. A high correlation among these variables may introduce noise and provide more problems than solutions to our predictive analysis.\n",
    "\n",
    "The procedures below tackle this issue and provides some reasonable solutions in circumventing such issues. You can find comments illustrating the rationale behind each of the steps undertaken.\n"
   ]
  },
  {
   "cell_type": "code",
   "execution_count": 9,
   "metadata": {},
   "outputs": [
    {
     "name": "stdout",
     "output_type": "stream",
     "text": [
      "Number of rows where source is equal to machine dbh and source_type is equal to borehole: 11075\n"
     ]
    }
   ],
   "source": [
    "# Half of the difference comes out of machine dbh and borehole, let's inspect the rest\n",
    "print('Number of rows where source is equal to machine dbh and source_type is equal to borehole:',len(df[(df['source'] == 'machine dbh') & (df['source_type'] == 'borehole')]))\n"
   ]
  },
  {
   "cell_type": "code",
   "execution_count": 10,
   "metadata": {},
   "outputs": [
    {
     "data": {
      "text/html": [
       "<div>\n",
       "<style scoped>\n",
       "    .dataframe tbody tr th:only-of-type {\n",
       "        vertical-align: middle;\n",
       "    }\n",
       "\n",
       "    .dataframe tbody tr th {\n",
       "        vertical-align: top;\n",
       "    }\n",
       "\n",
       "    .dataframe thead th {\n",
       "        text-align: right;\n",
       "    }\n",
       "</style>\n",
       "<table border=\"1\" class=\"dataframe\">\n",
       "  <thead>\n",
       "    <tr style=\"text-align: right;\">\n",
       "      <th></th>\n",
       "      <th>source</th>\n",
       "      <th>source_type</th>\n",
       "    </tr>\n",
       "  </thead>\n",
       "  <tbody>\n",
       "    <tr>\n",
       "      <th>16</th>\n",
       "      <td>river</td>\n",
       "      <td>river/lake</td>\n",
       "    </tr>\n",
       "    <tr>\n",
       "      <th>17</th>\n",
       "      <td>river</td>\n",
       "      <td>river/lake</td>\n",
       "    </tr>\n",
       "    <tr>\n",
       "      <th>22</th>\n",
       "      <td>river</td>\n",
       "      <td>river/lake</td>\n",
       "    </tr>\n",
       "    <tr>\n",
       "      <th>23</th>\n",
       "      <td>river</td>\n",
       "      <td>river/lake</td>\n",
       "    </tr>\n",
       "    <tr>\n",
       "      <th>31</th>\n",
       "      <td>river</td>\n",
       "      <td>river/lake</td>\n",
       "    </tr>\n",
       "    <tr>\n",
       "      <th>...</th>\n",
       "      <td>...</td>\n",
       "      <td>...</td>\n",
       "    </tr>\n",
       "    <tr>\n",
       "      <th>59369</th>\n",
       "      <td>river</td>\n",
       "      <td>river/lake</td>\n",
       "    </tr>\n",
       "    <tr>\n",
       "      <th>59370</th>\n",
       "      <td>unknown</td>\n",
       "      <td>other</td>\n",
       "    </tr>\n",
       "    <tr>\n",
       "      <th>59375</th>\n",
       "      <td>river</td>\n",
       "      <td>river/lake</td>\n",
       "    </tr>\n",
       "    <tr>\n",
       "      <th>59391</th>\n",
       "      <td>river</td>\n",
       "      <td>river/lake</td>\n",
       "    </tr>\n",
       "    <tr>\n",
       "      <th>59396</th>\n",
       "      <td>river</td>\n",
       "      <td>river/lake</td>\n",
       "    </tr>\n",
       "  </tbody>\n",
       "</table>\n",
       "<p>11317 rows × 2 columns</p>\n",
       "</div>"
      ],
      "text/plain": [
       "        source source_type\n",
       "16       river  river/lake\n",
       "17       river  river/lake\n",
       "22       river  river/lake\n",
       "23       river  river/lake\n",
       "31       river  river/lake\n",
       "...        ...         ...\n",
       "59369    river  river/lake\n",
       "59370  unknown       other\n",
       "59375    river  river/lake\n",
       "59391    river  river/lake\n",
       "59396    river  river/lake\n",
       "\n",
       "[11317 rows x 2 columns]"
      ]
     },
     "execution_count": 10,
     "metadata": {},
     "output_type": "execute_result"
    }
   ],
   "source": [
    "# Different source and source_type\n",
    "df_diff = df[df['source'] != df['source_type']]\n",
    "\n",
    "# Then filtering - it seems that river/lake is the other thing that stands in the way - we can drop it\n",
    "df_diff.loc[df_diff['source'] != 'machine dbh'][['source', 'source_type']]"
   ]
  },
  {
   "cell_type": "code",
   "execution_count": 11,
   "metadata": {},
   "outputs": [
    {
     "data": {
      "text/plain": [
       "water_quality       quality_group\n",
       "soft                good             50818\n",
       "salty               salty             4856\n",
       "unknown             unknown           1876\n",
       "milky               milky              804\n",
       "coloured            colored            490\n",
       "salty abandoned     salty              339\n",
       "fluoride            fluoride           200\n",
       "fluoride abandoned  fluoride            17\n",
       "dtype: int64"
      ]
     },
     "execution_count": 11,
     "metadata": {},
     "output_type": "execute_result"
    }
   ],
   "source": [
    "# Checking water_quality and quality_group - there is a clear overlap between variables\n",
    "df[['water_quality', 'quality_group']].value_counts()\n"
   ]
  },
  {
   "cell_type": "code",
   "execution_count": 12,
   "metadata": {},
   "outputs": [],
   "source": [
    "# Checking extraction type - clear overlap. I'll keep extraction_type_class\n",
    "df[['extraction_type', 'extraction_type_group', 'extraction_type_class']].value_counts()\n",
    "\n",
    "# Dropping the last overlapping columns from above\n",
    "df = df.drop(['source_type', 'water_quality', 'extraction_type', 'extraction_type_group', 'management_group'], axis = 1)"
   ]
  },
  {
   "cell_type": "code",
   "execution_count": 13,
   "metadata": {},
   "outputs": [
    {
     "data": {
      "text/plain": [
       "functional        0.615758\n",
       "non functional    0.384242\n",
       "Name: status_group, dtype: float64"
      ]
     },
     "execution_count": 13,
     "metadata": {},
     "output_type": "execute_result"
    }
   ],
   "source": [
    "# Substituting functional needs repair to functional. It seems fairly balanced, we won't need SMOTE\n",
    "df.loc[df.status_group == 'functional needs repair', 'status_group'] = 'functional'\n",
    "\n",
    "# Almost 60-40%.\n",
    "df['status_group'].value_counts(normalize = True)"
   ]
  },
  {
   "cell_type": "code",
   "execution_count": 14,
   "metadata": {},
   "outputs": [
    {
     "data": {
      "text/plain": [
       "0       21381\n",
       "1        7025\n",
       "200      1940\n",
       "150      1892\n",
       "250      1681\n",
       "        ...  \n",
       "3241        1\n",
       "1960        1\n",
       "1685        1\n",
       "2248        1\n",
       "1439        1\n",
       "Name: population, Length: 1049, dtype: int64"
      ]
     },
     "execution_count": 14,
     "metadata": {},
     "output_type": "execute_result"
    }
   ],
   "source": [
    "# Setting the DataFrame index\n",
    "df = df.set_index('id')\n",
    "\n",
    "# Checking the population variable - seems like it is empty, I can drop it\n",
    "df['population'].value_counts()"
   ]
  },
  {
   "cell_type": "code",
   "execution_count": 15,
   "metadata": {},
   "outputs": [
    {
     "data": {
      "text/plain": [
       " 0       20438\n",
       "-15         60\n",
       "-16         55\n",
       "-13         55\n",
       "-20         52\n",
       "         ...  \n",
       " 2285        1\n",
       " 2424        1\n",
       " 2552        1\n",
       " 2413        1\n",
       " 2385        1\n",
       "Name: gps_height, Length: 2428, dtype: int64"
      ]
     },
     "execution_count": 15,
     "metadata": {},
     "output_type": "execute_result"
    }
   ],
   "source": [
    "# Checking gps_heigt - most variables look like they'are zeros. I will drop them\n",
    "df['gps_height'].value_counts()"
   ]
  },
  {
   "cell_type": "code",
   "execution_count": 16,
   "metadata": {},
   "outputs": [
    {
     "data": {
      "text/plain": [
       "lga           ward       basin                    region         region_code  district_code  subvillage          \n",
       "Ilala         Kitunda    Wami / Ruvu              Dar es Salaam  7            2              Mtaa Wa Kitunda Kati    84\n",
       "Arusha Rural  Nduruma    Pangani                  Arusha         2            2              Marurani Kati           59\n",
       "                                                                                             Marurani Juu            54\n",
       "Ilala         Chanika    Wami / Ruvu              Dar es Salaam  7            2              Mtaa Wa Vikongoro       47\n",
       "Kibaha        Soga       Wami / Ruvu              Pwani          6            2              Vikuge                  41\n",
       "                                                                                                                     ..\n",
       "Sikonge       Sikonge    Lake Tanganyika          Tabora         14           5              Iyombakuzoa              1\n",
       "Masasi        Lukulendi  Ruvuma / Southern Coast  Mtwara         90           33             Warioba                  1\n",
       "                                                                                             Tankini                  1\n",
       "                                                                                             Ndaushei                 1\n",
       "Uyui          Usagali    Lake Tanganyika          Tabora         14           3              Mtanana                  1\n",
       "Length: 27584, dtype: int64"
      ]
     },
     "execution_count": 16,
     "metadata": {},
     "output_type": "execute_result"
    }
   ],
   "source": [
    "# Checking the geolocation variables for any overlap\n",
    "df[['lga', 'ward', 'basin', 'region', 'region_code', 'district_code', 'subvillage']].value_counts()"
   ]
  },
  {
   "cell_type": "code",
   "execution_count": 17,
   "metadata": {},
   "outputs": [
    {
     "data": {
      "text/plain": [
       "subvillage            ward   \n",
       "Mtaa Wa Kitunda Kati  Kitunda    84\n",
       "Marurani Kati         Nduruma    59\n",
       "Marurani Juu          Nduruma    54\n",
       "Mtaa Wa Vikongoro     Chanika    47\n",
       "Vikuge                Soga       41\n",
       "                                 ..\n",
       "Minazini              Itete       1\n",
       "                      Kalulu      1\n",
       "                      Luchili     1\n",
       "                      Mahenge     1\n",
       "##                    Izimbya     1\n",
       "Length: 27470, dtype: int64"
      ]
     },
     "execution_count": 17,
     "metadata": {},
     "output_type": "execute_result"
    }
   ],
   "source": [
    "# Checking subvillage and ward. They seem to be both very granular\n",
    "df[['subvillage', 'ward']].value_counts()"
   ]
  },
  {
   "cell_type": "code",
   "execution_count": 18,
   "metadata": {},
   "outputs": [
    {
     "data": {
      "text/plain": [
       "0       20709\n",
       "2010     2645\n",
       "2008     2613\n",
       "2009     2533\n",
       "2000     2091\n",
       "2007     1587\n",
       "2006     1471\n",
       "2003     1286\n",
       "2011     1256\n",
       "2004     1123\n",
       "2012     1084\n",
       "2002     1075\n",
       "1978     1037\n",
       "1995     1014\n",
       "2005     1011\n",
       "1999      979\n",
       "1998      966\n",
       "1990      954\n",
       "1985      945\n",
       "1980      811\n",
       "1996      811\n",
       "1984      779\n",
       "1982      744\n",
       "1994      738\n",
       "1972      708\n",
       "1974      676\n",
       "1997      644\n",
       "1992      640\n",
       "1993      608\n",
       "2001      540\n",
       "1988      521\n",
       "1983      488\n",
       "1975      437\n",
       "1986      434\n",
       "1976      414\n",
       "1970      411\n",
       "1991      324\n",
       "1989      316\n",
       "1987      302\n",
       "1981      238\n",
       "1977      202\n",
       "1979      192\n",
       "1973      184\n",
       "2013      176\n",
       "1971      145\n",
       "1960      102\n",
       "1967       88\n",
       "1963       85\n",
       "1968       77\n",
       "1969       59\n",
       "1964       40\n",
       "1962       30\n",
       "1961       21\n",
       "1965       19\n",
       "1966       17\n",
       "Name: construction_year, dtype: int64"
      ]
     },
     "execution_count": 18,
     "metadata": {},
     "output_type": "execute_result"
    }
   ],
   "source": [
    "# Checking construction_year variable. A lot of 0's\n",
    "df['construction_year'].value_counts()"
   ]
  },
  {
   "cell_type": "code",
   "execution_count": 19,
   "metadata": {},
   "outputs": [
    {
     "data": {
      "text/plain": [
       "region_code  district_code\n",
       "11           4                2476\n",
       "17           3                1401\n",
       "             1                1251\n",
       "3            4                1225\n",
       "2            2                1206\n",
       "                              ... \n",
       "6            6                  26\n",
       "1            0                  23\n",
       "17           80                 12\n",
       "60           67                  6\n",
       "40           43                  1\n",
       "Length: 130, dtype: int64"
      ]
     },
     "execution_count": 19,
     "metadata": {},
     "output_type": "execute_result"
    }
   ],
   "source": [
    "# Checking region_code and district_code overlap - looks fine\n",
    "df[['region_code', 'district_code']].value_counts()"
   ]
  },
  {
   "cell_type": "code",
   "execution_count": 20,
   "metadata": {},
   "outputs": [],
   "source": [
    "# num_private - no clear description of the variable and full of zeros. I will drop it\n",
    "df['num_private'].value_counts()\n",
    "\n",
    "# Dropping what I won't use. The variable recorded_by lists the name of the company that provided the dataset\n",
    "df = df.drop(['num_private', 'latitude', 'longitude', 'recorded_by', 'subvillage', 'population', 'gps_height'], axis = 1)"
   ]
  },
  {
   "cell_type": "code",
   "execution_count": 21,
   "metadata": {},
   "outputs": [
    {
     "name": "stdout",
     "output_type": "stream",
     "text": [
      "0.0         0.700993\n",
      "500.0       0.052222\n",
      "50.0        0.041616\n",
      "1000.0      0.025051\n",
      "20.0        0.024630\n",
      "              ...   \n",
      "8500.0      0.000017\n",
      "6300.0      0.000017\n",
      "220.0       0.000017\n",
      "138000.0    0.000017\n",
      "12.0        0.000017\n",
      "Name: amount_tsh, Length: 98, dtype: float64\n"
     ]
    }
   ],
   "source": [
    "# 70% of wells have no water available... this should be a strong predictor of not functioning\n",
    "print(df['amount_tsh'].value_counts(normalize = True))\n"
   ]
  },
  {
   "cell_type": "code",
   "execution_count": 22,
   "metadata": {},
   "outputs": [
    {
     "data": {
      "text/html": [
       "<div>\n",
       "<style scoped>\n",
       "    .dataframe tbody tr th:only-of-type {\n",
       "        vertical-align: middle;\n",
       "    }\n",
       "\n",
       "    .dataframe tbody tr th {\n",
       "        vertical-align: top;\n",
       "    }\n",
       "\n",
       "    .dataframe thead th {\n",
       "        text-align: right;\n",
       "    }\n",
       "</style>\n",
       "<table border=\"1\" class=\"dataframe\">\n",
       "  <thead>\n",
       "    <tr style=\"text-align: right;\">\n",
       "      <th></th>\n",
       "      <th>quantity</th>\n",
       "      <th>amount_tsh</th>\n",
       "    </tr>\n",
       "    <tr>\n",
       "      <th>id</th>\n",
       "      <th></th>\n",
       "      <th></th>\n",
       "    </tr>\n",
       "  </thead>\n",
       "  <tbody>\n",
       "    <tr>\n",
       "      <th>69572</th>\n",
       "      <td>enough</td>\n",
       "      <td>6000.0</td>\n",
       "    </tr>\n",
       "    <tr>\n",
       "      <th>8776</th>\n",
       "      <td>insufficient</td>\n",
       "      <td>0.0</td>\n",
       "    </tr>\n",
       "    <tr>\n",
       "      <th>34310</th>\n",
       "      <td>enough</td>\n",
       "      <td>25.0</td>\n",
       "    </tr>\n",
       "    <tr>\n",
       "      <th>67743</th>\n",
       "      <td>dry</td>\n",
       "      <td>0.0</td>\n",
       "    </tr>\n",
       "    <tr>\n",
       "      <th>19728</th>\n",
       "      <td>seasonal</td>\n",
       "      <td>0.0</td>\n",
       "    </tr>\n",
       "    <tr>\n",
       "      <th>...</th>\n",
       "      <td>...</td>\n",
       "      <td>...</td>\n",
       "    </tr>\n",
       "    <tr>\n",
       "      <th>60739</th>\n",
       "      <td>enough</td>\n",
       "      <td>10.0</td>\n",
       "    </tr>\n",
       "    <tr>\n",
       "      <th>27263</th>\n",
       "      <td>enough</td>\n",
       "      <td>4700.0</td>\n",
       "    </tr>\n",
       "    <tr>\n",
       "      <th>37057</th>\n",
       "      <td>enough</td>\n",
       "      <td>0.0</td>\n",
       "    </tr>\n",
       "    <tr>\n",
       "      <th>31282</th>\n",
       "      <td>insufficient</td>\n",
       "      <td>0.0</td>\n",
       "    </tr>\n",
       "    <tr>\n",
       "      <th>26348</th>\n",
       "      <td>enough</td>\n",
       "      <td>0.0</td>\n",
       "    </tr>\n",
       "  </tbody>\n",
       "</table>\n",
       "<p>59400 rows × 2 columns</p>\n",
       "</div>"
      ],
      "text/plain": [
       "           quantity  amount_tsh\n",
       "id                             \n",
       "69572        enough      6000.0\n",
       "8776   insufficient         0.0\n",
       "34310        enough        25.0\n",
       "67743           dry         0.0\n",
       "19728      seasonal         0.0\n",
       "...             ...         ...\n",
       "60739        enough        10.0\n",
       "27263        enough      4700.0\n",
       "37057        enough         0.0\n",
       "31282  insufficient         0.0\n",
       "26348        enough         0.0\n",
       "\n",
       "[59400 rows x 2 columns]"
      ]
     },
     "execution_count": 22,
     "metadata": {},
     "output_type": "execute_result"
    }
   ],
   "source": [
    "# However, once we cross that date with quantity, it seems odd\n",
    "df[['quantity', 'amount_tsh']]\n"
   ]
  },
  {
   "cell_type": "code",
   "execution_count": 23,
   "metadata": {},
   "outputs": [],
   "source": [
    "# Checking amount_tsh - doesn't seem like a consistent predictor. The value is set to zero and has more\n",
    "# than enough water...\n",
    "df[df['amount_tsh'] == 0.0]['quantity'].value_counts(normalize = True)\n",
    "\n",
    "# Dropping it\n",
    "df = df.drop('amount_tsh', axis = 1)"
   ]
  },
  {
   "cell_type": "markdown",
   "metadata": {},
   "source": [
    "### Data Cleaning: Final Steps\n",
    "The steps above indicate processes where I checked variable overlapping and some data cleansing procedures so we can start working with our models. First, I checked which variables had overlapping or similar values, such as: extraction_type, extraction_type_group, extraction_type_class, water_quality, quality_group, source_type, source_type_class and source_type_group.\n",
    "\n",
    "Across the board, it is visible that some of these variables provide similar variables with almost no different entry. By examining these columns, and dropping following the logic depicted above we are able to avoid multicollinearity of features.\n",
    "\n",
    "I also examine the set of numerical variables from the dataset. From inspecting the columns, we see that num_private is filled with zeroes and will not provide much variation to our prediction. The construction number also has  considerable values set as zero (maybe missing?) and they certainly will need to be encoded as dummy variables. Population also does not provide too much useful information.\n",
    "\n",
    "Furthermore, since this exercise will try to predict whether a pump is functioning or not, I substitute pumps categorized as 'functional needs repair' to 'functional'. The next steps will be encoding the categorical variables and scaling the numerical variables so we can work on a same scale."
   ]
  },
  {
   "cell_type": "code",
   "execution_count": 24,
   "metadata": {},
   "outputs": [
    {
     "data": {
      "text/plain": [
       "0.7737149270482604"
      ]
     },
     "execution_count": 24,
     "metadata": {},
     "output_type": "execute_result"
    }
   ],
   "source": [
    "# Turning 'numerical' variables into strings\n",
    "for var in list(df.columns):\n",
    "    df[var] = df[var].astype('str')\n",
    "\n",
    "# Starting pipeline process\n",
    "pipe = Pipeline(steps = [('imputer', SimpleImputer(strategy = 'constant', fill_value = 'missing')),\n",
    "                                 ('encoder', OneHotEncoder(handle_unknown = 'ignore')), \n",
    "                         ('dct', DecisionTreeClassifier(random_state = 42, max_depth = 5, criterion = 'entropy'))])\n",
    "# Generating Y's and X's\n",
    "y = df['status_group']\n",
    "X = df.drop('status_group', axis = 1)\n",
    "\n",
    "# Train-Test-Split - test_size = 0.25 and random_state = 42\n",
    "X_train, X_test, y_train, y_test = train_test_split(X, y, random_state = 42, test_size = 0.25)\n",
    "\n",
    "# Fitting our pipeline and retrieving the score                         \n",
    "pipe.fit(X_train, y_train)\n",
    "pipe.score(X_train, y_train)"
   ]
  },
  {
   "cell_type": "code",
   "execution_count": 25,
   "metadata": {},
   "outputs": [
    {
     "data": {
      "image/png": "[encoded data removed]",
      "text/plain": [
       "<Figure size 432x288 with 2 Axes>"
      ]
     },
     "metadata": {
      "needs_background": "light"
     },
     "output_type": "display_data"
    }
   ],
   "source": [
    "# Creating a confusing matrix to check the consistency of the model with testing data\n",
    "plot_confusion_matrix(pipe, X_test, y_test);"
   ]
  },
  {
   "cell_type": "code",
   "execution_count": 26,
   "metadata": {},
   "outputs": [
    {
     "name": "stdout",
     "output_type": "stream",
     "text": [
      "                precision    recall  f1-score   support\n",
      "\n",
      "    functional       0.74      0.97      0.84      9172\n",
      "non functional       0.90      0.45      0.60      5678\n",
      "\n",
      "      accuracy                           0.77     14850\n",
      "     macro avg       0.82      0.71      0.72     14850\n",
      "  weighted avg       0.80      0.77      0.75     14850\n",
      "\n"
     ]
    }
   ],
   "source": [
    "# Generating the predictions\n",
    "y_pred = pipe.predict(X_test)\n",
    "\n",
    "# Then printing the classification_report\n",
    "print(classification_report(y_test, y_pred))"
   ]
  },
  {
   "cell_type": "code",
   "execution_count": 27,
   "metadata": {},
   "outputs": [
    {
     "name": "stdout",
     "output_type": "stream",
     "text": [
      "Training Accuracy: 80.10%\n",
      "\n",
      "Optimal Parameters: {'dct__criterion': 'gini', 'dct__max_depth': 9, 'dct__min_samples_leaf': 3, 'dct__min_samples_split': 15}\n"
     ]
    }
   ],
   "source": [
    "# Building a GridSearchCV framework - we start with the parameters\n",
    "param_grid = {\n",
    "    'dct__criterion': ['gini', 'entropy'],\n",
    "    'dct__max_depth': [3, 5, 7, 9],\n",
    "    'dct__min_samples_leaf': [3, 6, 9],\n",
    "    'dct__min_samples_split': [3, 5, 10, 15]\n",
    "}\n",
    "\n",
    "# Instantiating the GridSearch\n",
    "grid_search = GridSearchCV(pipe, param_grid = param_grid, cv = 3, return_train_score = True, n_jobs = 2)\n",
    "\n",
    "# Fitting to our data\n",
    "grid_search.fit(X_train, y_train)\n",
    "\n",
    "# Printing out the Results\n",
    "print(f\"Training Accuracy: {grid_search.best_score_ :.2%}\")\n",
    "print(\"\")\n",
    "print(f\"Optimal Parameters: {grid_search.best_params_}\")"
   ]
  },
  {
   "cell_type": "code",
   "execution_count": 28,
   "metadata": {},
   "outputs": [
    {
     "data": {
      "text/plain": [
       "0.9945005611672278"
      ]
     },
     "execution_count": 28,
     "metadata": {},
     "output_type": "execute_result"
    }
   ],
   "source": [
    "# Let's try a more sophisticated model by creating a new pipeline - RandomForestClassifier\n",
    "new_pipe = Pipeline(steps = [('imputer', SimpleImputer(strategy = 'constant', fill_value = 'missing')),\n",
    "                                 ('encoder', OneHotEncoder(handle_unknown = 'ignore')), \n",
    "                         ('rft', RandomForestClassifier(random_state = 42))])\n",
    "\n",
    "# Fitting and scoring our new pipe\n",
    "new_pipe.fit(X_train, y_train)\n",
    "new_pipe.score(X_train, y_train)"
   ]
  },
  {
   "cell_type": "code",
   "execution_count": 29,
   "metadata": {},
   "outputs": [
    {
     "data": {
      "image/png": "[encoded data removed]",
      "text/plain": [
       "<Figure size 432x288 with 2 Axes>"
      ]
     },
     "metadata": {
      "needs_background": "light"
     },
     "output_type": "display_data"
    }
   ],
   "source": [
    "# Creating a confusing matrix to check the consistency of the model with testing data\n",
    "plot_confusion_matrix(new_pipe, X_test, y_test);"
   ]
  },
  {
   "cell_type": "code",
   "execution_count": 30,
   "metadata": {},
   "outputs": [
    {
     "name": "stdout",
     "output_type": "stream",
     "text": [
      "                precision    recall  f1-score   support\n",
      "\n",
      "    functional       0.85      0.92      0.88      9172\n",
      "non functional       0.85      0.75      0.79      5678\n",
      "\n",
      "      accuracy                           0.85     14850\n",
      "     macro avg       0.85      0.83      0.84     14850\n",
      "  weighted avg       0.85      0.85      0.85     14850\n",
      "\n",
      "Training Accuracy: 64.32%\n",
      "\n",
      "Optimal Parameters: {'rft__criterion': 'entropy', 'rft__max_depth': 9, 'rft__min_samples_leaf': 3, 'rft__min_samples_split': 10}\n"
     ]
    }
   ],
   "source": [
    "# Generating the predictions\n",
    "y_pred = new_pipe.predict(X_test)\n",
    "\n",
    "# Then printing the classification_report\n",
    "print(classification_report(y_test, y_pred))\n",
    "\n",
    "# Creating a new GridSearchCV\n",
    "rf_param_grid = {\n",
    "    'rft__criterion': ['gini', 'entropy'],\n",
    "    'rft__max_depth': [3, 5, 7, 9],\n",
    "    'rft__min_samples_leaf': [3, 6, 9],\n",
    "    'rft__min_samples_split': [3, 5, 10, 15]\n",
    "}\n",
    "\n",
    "# Instantiating the GridSearch\n",
    "rf_grid_search = GridSearchCV(new_pipe, rf_param_grid, cv = 3, return_train_score = True, n_jobs = 2)\n",
    "\n",
    "# Fitting to our data\n",
    "rf_grid_search.fit(X_train, y_train)\n",
    "\n",
    "# Printing out the Results\n",
    "print(f\"Training Accuracy: {rf_grid_search.best_score_ :.2%}\")\n",
    "print(\"\")\n",
    "print(f\"Optimal Parameters: {rf_grid_search.best_params_}\")"
   ]
  },
  {
   "cell_type": "code",
   "execution_count": 31,
   "metadata": {},
   "outputs": [
    {
     "name": "stdout",
     "output_type": "stream",
     "text": [
      "Decision Tree Grid Search: 0.796969696969697\n",
      "Random Forest Grid Search: 0.6332659932659933\n"
     ]
    }
   ],
   "source": [
    "# Final Scores\n",
    "print('Decision Tree Grid Search:', grid_search.score(X_test, y_test))\n",
    "print('Random Forest Grid Search:', rf_grid_search.score(X_test, y_test))\n"
   ]
  }
 ],
 "metadata": {
  "kernelspec": {
   "display_name": "Python (learn-env)",
   "language": "python",
   "name": "learn-env"
  },
  "language_info": {
   "codemirror_mode": {
    "name": "ipython",
    "version": 3
   },
   "file_extension": ".py",
   "mimetype": "text/x-python",
   "name": "python",
   "nbconvert_exporter": "python",
   "pygments_lexer": "ipython3",
   "version": "3.8.5"
  }
 },
 "nbformat": 4,
 "nbformat_minor": 4
}
